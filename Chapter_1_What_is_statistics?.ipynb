{
  "nbformat": 4,
  "nbformat_minor": 0,
  "metadata": {
    "colab": {
      "provenance": [],
      "authorship_tag": "ABX9TyM9yOdJ99WMARXyMuySGcO+",
      "include_colab_link": true
    },
    "kernelspec": {
      "name": "python3",
      "display_name": "Python 3"
    },
    "language_info": {
      "name": "python"
    }
  },
  "cells": [
    {
      "cell_type": "markdown",
      "metadata": {
        "id": "view-in-github",
        "colab_type": "text"
      },
      "source": [
        "<a href=\"https://colab.research.google.com/github/prakhosha/Statistics-from-the-philosophy-of-statistics-to-practicing-it/blob/main/Chapter_1_What_is_statistics%3F.ipynb\" target=\"_parent\"><img src=\"https://colab.research.google.com/assets/colab-badge.svg\" alt=\"Open In Colab\"/></a>"
      ]
    },
    {
      "cell_type": "code",
      "execution_count": null,
      "metadata": {
        "id": "9anEPuDc8qt3"
      },
      "outputs": [],
      "source": []
    },
    {
      "cell_type": "markdown",
      "source": [
        "1. What is statistics?\n",
        "- Sains\n",
        "- Process\n",
        "- Model\n",
        "- Deterministic Model\n",
        "- Statistical Model\n",
        "- This is what statistics trying to do\n"
      ],
      "metadata": {
        "id": "VhVIacQK8stz"
      }
    },
    {
      "cell_type": "markdown",
      "source": [
        "Menurut anda, seberapa pentingkah informasi untuk kehidupan anda? Bisakah anda hidup satu hari di dunia ini tanpa menerima informasi?\n",
        "\n",
        "Bayangkan anda bangun di pagi hari. Anda membuat kopi dengan komposisi kopi dan gula favorit anda. Setelah kopi jadi, anda duduk di teras rumah sembari membuka aplikasi berita di *smartphone* anda. *Headline* berita pertama yang muncul bertuliskan \"Perubahan Iklim Ancam Keselamatan dan Kesehatan Kaum Pekerja\". Anda penasaran dan meng-klik berita ini. Di dalamnya tertulis \"... lebih dari 2.4 miliar orang kemungkinan besar akan terpapar panas berlebih selama bekerja\". Bagaimana bisa seseorang bisa memperkirakan jumlah orang yang terpapar panas selama bekerja? [https://www.kompas.id/baca/ekonomi/2024/04/26/dari-panas-berlebih-hingga-pemakaian-agrokimia-menambah-risiko-keselamatan-dan-kesehatan-kerja]\n",
        "\n",
        "Setelah beberapa menit meng-scroll telpon pintar anda, anda merasa bosan. Anda melihat kelangit. Terlihat sekumpulan awan di langit utara. Berdasarkan hal ini anda menyimpulkan hari ini akan ada hujan. Untuk lebih memastikannya, anda membuka aplikasi Google weather. Anda membaca \"kemungkinan hujan hari ini sekitar 70%\". Dari mana angka ini berasal?\n",
        "\n",
        "Anda memutuskan untuk bepergian membawa payung hari ini. (satu contoh lagi)(Contoh deterministik sains yang seakan statistik tidak penting di dalamnya)\n",
        "\n",
        "Ketiga cerita di atas memiliki satu kesamaan. Kesamaannya, seseorang (baik anda atau orang lain) memberikan informasi terkait fenomena yang ada di dunia yang dapat dilihat oleh semua indera kita."
      ],
      "metadata": {
        "id": "VYK-rl68po7h"
      }
    },
    {
      "cell_type": "markdown",
      "source": [
        "# Fenomena dan Nomena"
      ],
      "metadata": {
        "id": "WO55vfgDuokw"
      }
    },
    {
      "cell_type": "markdown",
      "source": [
        "Dunia ini dipenuhi dengan fenomena. Fenomena adalah segala sesuatu yang terjadi di dunia ini dan dilihat oleh indera-indera kita. Bukankah segala sesuatu yang terjadi di dunia ini pasti dapat dilihat oleh indera-indera kita? Well, darimana anda tau indera-indera anda cukup untuk mengetahui segala hal yang terjadi? Yang kita lakukan hanya membaca informasi yang dipancarkan sesuatu di  luar indera kita. Sesuatu ini disebut dengan nomena. Hasil pembacaan nomena oleh indera-inedra kita disebut dengan fenomena. Ada kemungkinan fenomena yang kita lihat sama dengan nomena. Tapi bukan tidak mungkin fenomena yang kita lihat berbeda dengan nomena sesungguhnya.\n",
        "\n",
        "Bayangkan anda berada di suatu ruangan dengan pintu dan jendela yang tertutup sehingga anda sama sekali tidak dapat melihat keluar. Beberapa saat kemudian, anda mendengar sirine ambulans. Anda berpikir \"Oh, ada mobil ambulans di luar\". Setelah beberapa saat, jendela terbuka dan yang anda lihat adalah seorang anak kecil yang sedang bermain mainan mobil ambulans. Kasus ini adalah contoh kesalahan pembacaan yang dilakukan oleh pikiran kita. Kasus dimana fenomena tidak sama dengan nomena.\n",
        "\n",
        "Kesalahan pembacaan ini bukan sepenunya karena kesalahan kita. Yang kita terima hanya informasi melalui pendengaran kita saja. Naasnya, mainan mobil ambulans (nomena), ketika dibaca oleh indera pendengaran kita memiliki bentuk (fenomena) yang sama dengan mobil ambulans betulan.\n",
        "\n",
        "Contoh diatas mungkin terlalu filosofis. Namun tenang saja, yang akan difokuskan buku ini hanya kasus-kasus dimana fenomena sama atau mendekati nomena saja. Namun, framework berpikir fenomena-nomena ini sangat penting agar kita memahami sains dan statistika lebih dalam.\n",
        "\n",
        "Kegiatan pembacaan ini disebut dengan permodelan."
      ],
      "metadata": {
        "id": "dTU0qlfVuqCw"
      }
    },
    {
      "cell_type": "markdown",
      "source": [
        "# Model Deterministik"
      ],
      "metadata": {
        "id": "SUDvtNQr2k3m"
      }
    },
    {
      "cell_type": "markdown",
      "source": [
        "Mari kita lihat contoh kasus yang lebih praktis. Anda tahu hukum pertama newton? Jangan khawatir jika anda lupa, newton bilang .... .\n",
        "\n",
        "[menjatuhkan apel dari atas gedung]\n",
        "\n",
        "[ketinggian a, waktu a']\n",
        "\n",
        "[ketinggian b, waktu b']\n",
        "\n",
        "hukum newton adalah model yang menjelaskan peristiwa ini.\n",
        "\n",
        "Pos of model:\n",
        "1. Mengizinkan kita untuk memprediksi apa yang terjadi di masa depan\n",
        "2. Menjelaskan alasan bagaimana bisa sesuatu terjadi di masa lalu\n",
        "\n",
        "Wah menarik, apakah semua hal di dunia dapat kita modelkan?\n",
        "\n",
        "kasus bepergian dengan kendaraan, dari Jakarta ke Kebumen.\n",
        "\n",
        "[jarak x1]\n",
        "\n",
        "[jarak x2]\n",
        "\n",
        "[jarak x3]\n",
        "\n",
        "Kenapa? karena pembacaan kita tidak cukup untuk memodelkan peristiwa ini. Variabilitas."
      ],
      "metadata": {
        "id": "YDjqSvuJ2num"
      }
    },
    {
      "cell_type": "markdown",
      "source": [
        "# Model Statistika"
      ],
      "metadata": {
        "id": "H12abY9i5CNc"
      }
    },
    {
      "cell_type": "markdown",
      "source": [
        "# Konklusi"
      ],
      "metadata": {
        "id": "cMleKshq5Ewy"
      }
    },
    {
      "cell_type": "code",
      "source": [],
      "metadata": {
        "id": "9JRkaZNqpoRs"
      },
      "execution_count": null,
      "outputs": []
    }
  ]
}