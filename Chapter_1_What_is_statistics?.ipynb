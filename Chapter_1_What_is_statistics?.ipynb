{
  "nbformat": 4,
  "nbformat_minor": 0,
  "metadata": {
    "colab": {
      "provenance": [],
      "authorship_tag": "ABX9TyNjRZHayKAEj0iycWeOLOyo",
      "include_colab_link": true
    },
    "kernelspec": {
      "name": "python3",
      "display_name": "Python 3"
    },
    "language_info": {
      "name": "python"
    }
  },
  "cells": [
    {
      "cell_type": "markdown",
      "metadata": {
        "id": "view-in-github",
        "colab_type": "text"
      },
      "source": [
        "<a href=\"https://colab.research.google.com/github/prakhosha/Statistics-from-the-philosophy-of-statistics-to-practicing-it/blob/main/Chapter_1_What_is_statistics%3F.ipynb\" target=\"_parent\"><img src=\"https://colab.research.google.com/assets/colab-badge.svg\" alt=\"Open In Colab\"/></a>"
      ]
    },
    {
      "cell_type": "code",
      "execution_count": null,
      "metadata": {
        "id": "9anEPuDc8qt3"
      },
      "outputs": [],
      "source": []
    },
    {
      "cell_type": "markdown",
      "source": [
        "1. What is statistics?\n",
        "- World\n",
        "- Process\n",
        "- Model\n",
        "- Deterministic Model\n",
        "- Statistical Model\n",
        "- This is what statistics trying to do\n"
      ],
      "metadata": {
        "id": "VhVIacQK8stz"
      }
    }
  ]
}